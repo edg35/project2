{
 "cells": [
  {
   "cell_type": "markdown",
   "metadata": {},
   "source": [
    "## Mini Project 2\n",
    "\n",
    "## Lecture Transcript Word Frequency Analysis\n",
    "\n",
    "## 100 Points.\n"
   ]
  },
  {
   "cell_type": "markdown",
   "metadata": {},
   "source": [
    "```mermaid\n",
    "graph TB\n",
    "\n",
    "EPT[\"1.1<br>extract_pdf_text\"]\n",
    "RH[\"1.2<br>remove_headers\"]\n",
    "RP[\"1.3<br>remove_parentheses\"]\n",
    "RS[\"1.4<br>remove_speakers\"]\n",
    "\n",
    "SIS[\"2.1<br>split_into_sentences\"]\n",
    "TS[\"2.2<br>tokenize_sentence\"]\n",
    "RSW[\"2.3<br>remove_stopwords\"]\n",
    "\n",
    "SAC[\"3.1<br>save_as_csv\"]\n",
    "\n",
    "CWF[\"4.1<br>update_word_frequency\"]\n",
    "PWFD[\"4.2<br>plot_word_frequency_dist\"]\n",
    "SWBF[\"4.3<br>sort_words_by_frequency\"]\n",
    "FBIOW[\"4.4<br>find_bucket_index_of_words\"]\n",
    "SAJ[\"4.5<br>save_as_json\"]\n",
    "PSWF[\"4.6<br>plot_stacked_word_frequency\"]\n",
    "\n",
    "EPT --> RH\n",
    "RH --> RP\n",
    "RP --> RS\n",
    "\n",
    "RS --> SIS\n",
    "SIS --> TS\n",
    "TS --> RSW\n",
    "\n",
    "RSW --> SAC\n",
    "\n",
    "RSW --> CWF\n",
    "CWF --> PWFD\n",
    "CWF --> SWBF\n",
    "SWBF --> FBIOW\n",
    "\n",
    "FBIOW --> SAJ\n",
    "\n",
    "FBIOW --> PSWF\n",
    "CWF --> PSWF\n",
    "\n",
    "subgraph \"Extract Text Contents\"\n",
    "    EPT\n",
    "    RH\n",
    "    RP\n",
    "    RS\n",
    "end\n",
    "\n",
    "subgraph \"Natural Language Preprocessing\"\n",
    "    SIS\n",
    "    TS\n",
    "    RSW\n",
    "end\n",
    "\n",
    "subgraph \"Save the Cleaned Text\"\n",
    "    SAC\n",
    "end\n",
    "\n",
    "subgraph \"Word Frequency Analysis\"\n",
    "    CWF\n",
    "    PWFD\n",
    "    SWBF\n",
    "    FBIOW\n",
    "    SAJ\n",
    "    PSWF\n",
    "end\n",
    "```\n"
   ]
  },
  {
   "cell_type": "markdown",
   "metadata": {},
   "source": [
    "### Task 1 (30 pts): Extract text contents\n"
   ]
  },
  {
   "cell_type": "markdown",
   "metadata": {},
   "source": [
    "#### 1.1 (5 pts): Extract the text from a PDF file.\n"
   ]
  },
  {
   "cell_type": "markdown",
   "metadata": {},
   "source": [
    "Write a function `extract_pdf_text(file_path)` that:\n",
    "\n",
    "- **Input:** A string `file_path` specifying the path to a PDF file.\n",
    "- **Output:** A string containing all the text extracted from the PDF file.\n",
    "\n",
    "**Note:**\n",
    "\n",
    "- For this task, you may use the [`pypdf` module](https://github.com/py-pdf/pypdf) to extract text from the PDF file.\n",
    "  - To install the module, open a terminal and run\n",
    "  ```bash\n",
    "  pip install pypdf\n",
    "  ```\n",
    "  If you are using Linux or MacOS, you may need to run `pip3` instead of `pip`.\n",
    "- Join the text from different pages with a space.\n"
   ]
  },
  {
   "cell_type": "code",
   "execution_count": null,
   "metadata": {},
   "outputs": [],
   "source": [
    "from pypdf import PdfReader\n",
    "\n",
    "\n",
    "def extract_pdf_text(file_path):\n",
    "    \"\"\"\n",
    "    Extracts text from a PDF file as a string\n",
    "    IN: file_path, str, path to the PDF file\n",
    "    OUT: text, str, extracted text from all pages joined together with whitespaces\n",
    "    \"\"\"\n",
    "    # create a reader to read the PDF file\n",
    "    reader = PdfReader(file_path)\n",
    "\n",
    "    text_list = []  # list to collect text from each page\n",
    "    for page in reader.pages:\n",
    "        # extract text from the page\n",
    "        page_text = page.extract_text()\n",
    "        # append the text to the list\n",
    "        text_list.append(page_text)\n",
    "\n",
    "    # join the text from all pages with whitespaces\n",
    "    text = ' '.join(text_list)\n",
    "    return text"
   ]
  },
  {
   "cell_type": "markdown",
   "metadata": {},
   "source": [
    "#### 1.2 (7 pts): Remove headers.\n"
   ]
  },
  {
   "cell_type": "markdown",
   "metadata": {},
   "source": [
    "Write a function `remove_headers(text)` that:\n",
    "\n",
    "- **Input:** A string `text` extracted from the PDF file.\n",
    "- **Output:** A string that does not contain the header texts.\n",
    "\n",
    "**Note:**\n",
    "\n",
    "- Some lecture transcripts may contain a header with the service name \"StreamBox\" on the first page. Remove it if it is present. See `transcript 1.pdf` for an example.\n",
    "- Some lecture transcripts may start with a Disclaimer. Remove all the text enclosed by `**********DISCLAIMER**********` (included). See `transcript 4.pdf` for an example.\n"
   ]
  },
  {
   "cell_type": "code",
   "execution_count": null,
   "metadata": {},
   "outputs": [],
   "source": [
    "def remove_headers(text):\n",
    "    \"\"\"\n",
    "    Removes headers from the text\n",
    "    IN: text, str, text to remove headers from\n",
    "    OUT: text, str, text with headers removed\n",
    "    \"\"\"\n",
    "    # if there is any leading \"StreamBox\", remove it\n",
    "    text = text.replace('StreamBox', '')\n",
    "\n",
    "    # if there is any **********DISCLAIMER**********, find the matched end, and remove it\n",
    "    disclaimer_start = text.find('**********DISCLAIMER**********')\n",
    "    if disclaimer_start != -1:\n",
    "        disclaimer_end = text.find('**********', disclaimer_start + 30)\n",
    "        text = text[:disclaimer_start] + text[disclaimer_end + 10:]\n",
    "\n",
    "    return text"
   ]
  },
  {
   "cell_type": "markdown",
   "metadata": {},
   "source": [
    "#### 1.3 (10 pts): Remove transcription system notes enclosed by parentheses.\n"
   ]
  },
  {
   "cell_type": "markdown",
   "metadata": {},
   "source": [
    "Write a function `remove_parentheses(text)` that:\n",
    "\n",
    "- **Input:** A string `text` that has been processed by the previous functions.\n",
    "- **Output:** A string that does not contain the transcription system notes enclosed by parentheses.\n",
    "\n",
    "**Note:**\n",
    "\n",
    "- Some lecture transcripts use parentheses to provide additional information about the transcription system. Remove all the text enclosed by parentheses. For example, `[Captioner standing by]` in `transcript 1.pdf`.\n",
    "- There are NO nested parentheses in the lecture transcripts.\n",
    "- The parentheses may either be round parentheses `()` or square parentheses `[]`.\n",
    "- Some parentheses may be followed immediately by a period. For example, `(Away From Mic).` in `transcript 4.pdf`. In this case, you should remove the period as well.\n",
    "- You are welcome to use regular expressions to solve this task, but it is not required. You can use Python built-in string methods to achieve the same result.\n"
   ]
  },
  {
   "cell_type": "code",
   "execution_count": null,
   "metadata": {},
   "outputs": [],
   "source": [
    "import re  # if you don't know regular expressions, ignore this import, and use Python plain vanilla string methods\n",
    "\n",
    "\n",
    "def remove_parentheses(text):\n",
    "    \"\"\"\n",
    "    Removes text within parentheses\n",
    "    IN: text, str, text to remove notes enclosed in parentheses\n",
    "    OUT: text, str, text without parentheses notes\n",
    "    \"\"\"\n",
    "    # remove round parentheses () and the text within them. If there is a trailing period, remove it as well\n",
    "    text = re.sub(r'\\(.*?\\)\\.?', '', text)\n",
    "\n",
    "    # remove square parentheses [] and the text within them. If there is a trailing period, remove it as well\n",
    "    text = re.sub(r'\\[.*?\\]\\.?', '', text)\n",
    "\n",
    "    return text"
   ]
  },
  {
   "cell_type": "markdown",
   "metadata": {},
   "source": [
    "#### 1.4 (8 pts): Remove speaker notations.\n"
   ]
  },
  {
   "cell_type": "markdown",
   "metadata": {},
   "source": [
    "Write a function `remove_speakers(text)` that:\n",
    "\n",
    "- **Input:** A string `text` that has been processed by the previous functions.\n",
    "- **Output:** A string that does not contain the speaker notations.\n",
    "\n",
    "**Note:**\n",
    "\n",
    "- Speaker notations start with two greater-than symbols `>>`, followed by the speaker's name in uppercase letters, and end with a colon `:`. For example, `>> INSTRUCTOR:`.\n",
    "- `>>` symbols are used only for speaker notations and NOT for any other purposes.\n",
    "- You are welcome to use regular expressions to solve this task, but it is not required. You can use Python built-in string methods to achieve the same result.\n"
   ]
  },
  {
   "cell_type": "code",
   "execution_count": null,
   "metadata": {},
   "outputs": [],
   "source": [
    "import re  # if you don't know regular expressions, ignore this import, and use Python plain vanilla string methods\n",
    "\n",
    "\n",
    "def remove_speakers(text):\n",
    "    \"\"\"\n",
    "    Removes speaker names from the text\n",
    "    IN: text, str, text to remove speaker notations from\n",
    "    OUT: text, str, text without speaker notations\n",
    "    \"\"\"\n",
    "    # remove speaker notations\n",
    "    text = re.sub(r'[A-Z][A-Z]+:', '', text)\n",
    "\n",
    "    return text"
   ]
  },
  {
   "cell_type": "markdown",
   "metadata": {},
   "source": [
    "### Task 2 (20 pts): Natural Language Preprocessing\n"
   ]
  },
  {
   "cell_type": "markdown",
   "metadata": {},
   "source": [
    "In this task, you may use a Natural Language Processing module [`spaCy`](https://spacy.io/) to preprocess the text data.\n",
    "\n",
    "**Installation Instructions:**\n",
    "\n",
    "1. To install the spaCy module, open a terminal and run:\n",
    "   ```bash\n",
    "   pip install spacy\n",
    "   python -m spacy download en_core_web_sm\n",
    "   ```\n",
    "   If you are using Linux or MacOS, you may need to run `pip3` instead of `pip`, and `python3` instead of `python`.\n"
   ]
  },
  {
   "cell_type": "markdown",
   "metadata": {},
   "source": [
    "#### 2.1 (6 pts): Split text into sentences.\n"
   ]
  },
  {
   "cell_type": "markdown",
   "metadata": {},
   "source": [
    "Write a function `split_into_sentences(text)` that\n",
    "\n",
    "- **Input:** A string `text` that has been processed by the previous functions.\n",
    "- **Output:** A list of strings, where each string is a sentence.\n",
    "\n",
    "**Note:**\n",
    "\n",
    "- `spaCy` provides a sentence segmentation method that can be used to split the text into sentences. Below is an example of how to implement this functionality:\n",
    "\n",
    "  ```python\n",
    "  import spacy\n",
    "\n",
    "  nlp = spacy.load(\"en_core_web_sm\") # Load the English language model\n",
    "\n",
    "  text = \"This is a sentence. This is another sentence.\"\n",
    "  doc = nlp(text) # Process the input text\n",
    "\n",
    "  # Extract sentences from the processed document\n",
    "  sentences = [sent.text for sent in doc.sents]\n",
    "  print(sentences)\n",
    "  ```\n",
    "\n",
    "  The printed output will be\n",
    "\n",
    "  ```python\n",
    "  ['This is a sentence.', 'This is another sentence.']\n",
    "  ```\n"
   ]
  },
  {
   "cell_type": "code",
   "execution_count": 3,
   "metadata": {},
   "outputs": [
    {
     "ename": "ModuleNotFoundError",
     "evalue": "No module named 'spacy'",
     "output_type": "error",
     "traceback": [
      "\u001b[0;31m---------------------------------------------------------------------------\u001b[0m",
      "\u001b[0;31mModuleNotFoundError\u001b[0m                       Traceback (most recent call last)",
      "Cell \u001b[0;32mIn[3], line 1\u001b[0m\n\u001b[0;32m----> 1\u001b[0m \u001b[39mimport\u001b[39;00m \u001b[39mspacy\u001b[39;00m\n\u001b[1;32m      3\u001b[0m nlp \u001b[39m=\u001b[39m spacy\u001b[39m.\u001b[39mload(\u001b[39m\"\u001b[39m\u001b[39men_core_web_sm\u001b[39m\u001b[39m\"\u001b[39m)\n\u001b[1;32m      6\u001b[0m \u001b[39mdef\u001b[39;00m \u001b[39msplit_into_sentences\u001b[39m(text):\n",
      "\u001b[0;31mModuleNotFoundError\u001b[0m: No module named 'spacy'"
     ]
    }
   ],
   "source": [
    "import spacy\n",
    "\n",
    "nlp = spacy.load(\"en_core_web_sm\")\n",
    "\n",
    "\n",
    "def split_into_sentences(text):\n",
    "    \"\"\"\n",
    "    Splits text into sentences\n",
    "    IN: text, str, text to split into sentences\n",
    "    OUT: sentences, list[str], sentences in the text\n",
    "    \"\"\"\n",
    "    # join lines into a single paragraph\n",
    "    text = text.replace(\"\\n\", \" \")\n",
    "\n",
    "    # remove leading and trailing whitespaces in the text\n",
    "    text = text.strip()\n",
    "\n",
    "    # use spaCy to split the text into sentences\n",
    "    doc = nlp(text)\n",
    "    sentences = [sent.text.strip() for sent in doc.sents]\n",
    "\n",
    "    return sentences"
   ]
  },
  {
   "cell_type": "markdown",
   "metadata": {},
   "source": [
    "#### 2.2 (8 pts): Tokenize sentences and remove punctuations and spaces.\n"
   ]
  },
  {
   "cell_type": "markdown",
   "metadata": {},
   "source": [
    "Write a function `tokenize_sentence(sentence)` that\n",
    "\n",
    "- **Input:** A string `sentence` that has been processed by the previous functions.\n",
    "- **Output:** A list of strings, where each string is a lemmatized token in the sentence.\n",
    "\n",
    "**Note:**\n",
    "\n",
    "- You can use the `spaCy` module to tokenize the sentence and remove punctuation and spaces. Below is an example demonstrating how to implement this functionality:\n",
    "\n",
    "  ```python\n",
    "  import spacy\n",
    "\n",
    "  nlp = spacy.load(\"en_core_web_sm\") # Load the English language model\n",
    "\n",
    "  sentence = \"This is a sentence.\"\n",
    "  doc = nlp(sentence) # Process the input sentence\n",
    "\n",
    "  # Extract lemmatized tokens, excluding punctuation and spaces\n",
    "  tokens = [\n",
    "    token.lemma_\n",
    "    for token in doc\n",
    "    if not token.is_punct and not token.is_space\n",
    "  ]\n",
    "  print(tokens)\n",
    "  ```\n",
    "\n",
    "  The printed output will be\n",
    "\n",
    "  ```python\n",
    "  ['this', 'be', 'a', 'sentence']\n",
    "  ```\n"
   ]
  },
  {
   "cell_type": "code",
   "execution_count": 1,
   "metadata": {},
   "outputs": [
    {
     "ename": "ModuleNotFoundError",
     "evalue": "No module named 'spacy'",
     "output_type": "error",
     "traceback": [
      "\u001b[0;31m---------------------------------------------------------------------------\u001b[0m",
      "\u001b[0;31mModuleNotFoundError\u001b[0m                       Traceback (most recent call last)",
      "Cell \u001b[0;32mIn[1], line 1\u001b[0m\n\u001b[0;32m----> 1\u001b[0m \u001b[39mimport\u001b[39;00m \u001b[39mspacy\u001b[39;00m\n\u001b[1;32m      3\u001b[0m nlp \u001b[39m=\u001b[39m spacy\u001b[39m.\u001b[39mload(\u001b[39m\"\u001b[39m\u001b[39men_core_web_sm\u001b[39m\u001b[39m\"\u001b[39m)\n\u001b[1;32m      6\u001b[0m \u001b[39mdef\u001b[39;00m \u001b[39mtokenize_sentence\u001b[39m(sentence):\n",
      "\u001b[0;31mModuleNotFoundError\u001b[0m: No module named 'spacy'"
     ]
    }
   ],
   "source": [
    "import spacy\n",
    "\n",
    "nlp = spacy.load(\"en_core_web_sm\")\n",
    "\n",
    "\n",
    "def tokenize_sentence(sentence):\n",
    "    \"\"\"\n",
    "    Tokenizes sentence into lemmatized words\n",
    "    IN: sentence, str, sentence to tokenize\n",
    "    OUT: tokenized_sentence, list[str], tokenized sentences\n",
    "    \"\"\"\n",
    "    # use spaCy to tokenize the sentence into lemmatized words\n",
    "    doc = nlp(sentence)\n",
    "    tokenized_sentence = [\n",
    "        token.lemma_\n",
    "        for token in doc\n",
    "        if not token.is_punct and not token.is_space\n",
    "    ]\n",
    "    return tokenized_sentence"
   ]
  },
  {
   "cell_type": "markdown",
   "metadata": {},
   "source": [
    "#### 2.3 (6 pts): Remove stopwords.\n"
   ]
  },
  {
   "cell_type": "markdown",
   "metadata": {},
   "source": [
    "Write a function `remove_stopwords(tokens)` that\n",
    "\n",
    "- **Input:** A list of strings `tokens` that have been processed by the previous functions.\n",
    "- **Output:** A filtered list of strings that does not contain stopwords.\n",
    "\n",
    "**Note:**\n",
    "\n",
    "- You can use the `spaCy` module to remove the stopwords. Below is an example demonstrating how to implement this functionality, including adding an additional stopword \"blah\":\n",
    "\n",
    "  ```python\n",
    "  import spacy\n",
    "\n",
    "  nlp = spacy.load(\"en_core_web_sm\") # Load the English language model\n",
    "\n",
    "  nlp.Defaults.stop_words.add(\"blah\") # Add an additional stopword \"blah\"\n",
    "\n",
    "  tokens = [\"this\", \"be\", \"a\", \"sentence\"]\n",
    "\n",
    "  # Filter out stopwords from the tokens list\n",
    "  tokens = [token for token in tokens if not nlp.vocab[token].is_stop]\n",
    "  print(tokens)\n",
    "  ```\n",
    "\n",
    "  The printed output will be\n",
    "\n",
    "  ```python\n",
    "  ['sentence']\n",
    "  ```\n"
   ]
  },
  {
   "cell_type": "code",
   "execution_count": 6,
   "metadata": {},
   "outputs": [
    {
     "ename": "ModuleNotFoundError",
     "evalue": "No module named 'spacy'",
     "output_type": "error",
     "traceback": [
      "\u001b[0;31m---------------------------------------------------------------------------\u001b[0m",
      "\u001b[0;31mModuleNotFoundError\u001b[0m                       Traceback (most recent call last)",
      "Cell \u001b[0;32mIn[6], line 1\u001b[0m\n\u001b[0;32m----> 1\u001b[0m \u001b[39mimport\u001b[39;00m \u001b[39mspacy\u001b[39;00m\n\u001b[1;32m      3\u001b[0m nlp \u001b[39m=\u001b[39m spacy\u001b[39m.\u001b[39mload(\u001b[39m\"\u001b[39m\u001b[39men_core_web_sm\u001b[39m\u001b[39m\"\u001b[39m)\n\u001b[1;32m      4\u001b[0m nlp\u001b[39m.\u001b[39mDefaults\u001b[39m.\u001b[39mstop_words\u001b[39m.\u001b[39madd(\u001b[39m\"\u001b[39m\u001b[39mblah\u001b[39m\u001b[39m\"\u001b[39m)\n",
      "\u001b[0;31mModuleNotFoundError\u001b[0m: No module named 'spacy'"
     ]
    }
   ],
   "source": [
    "import spacy\n",
    "\n",
    "nlp = spacy.load(\"en_core_web_sm\")\n",
    "nlp.Defaults.stop_words.add(\"blah\")\n",
    "\n",
    "\n",
    "def remove_stopwords(tokens):\n",
    "    \"\"\"\n",
    "    Removes stopwords from tokens\n",
    "    IN: tokens, list[str], tokens to remove stopwords from\n",
    "    OUT: tokens, list[str], tokens with stopwords removed\n",
    "    \"\"\"\n",
    "    # use spaCy to remove stopwords\n",
    "    tokens = [token for token in tokens if not nlp.vocab[token].is_stop]\n",
    "    return tokens"
   ]
  },
  {
   "cell_type": "markdown",
   "metadata": {},
   "source": [
    "### Task 3 (5 pts): Save the cleaned text\n"
   ]
  },
  {
   "cell_type": "markdown",
   "metadata": {},
   "source": [
    "#### 3.1 (5 pts): Save the processed text as a csv file.\n"
   ]
  },
  {
   "cell_type": "markdown",
   "metadata": {},
   "source": [
    "Write a function `save_as_csv(process_text, file_path)` that\n",
    "\n",
    "- **Input 1:** A list of lists of strings `processed_text`, where each inner list contains the processed tokens of a sentence in a lecture transcript.\n",
    "- **Input 2:** A string `file_path` that specifies the path to save the CSV file.\n",
    "- **Write** the processed text to a CSV file at the specified `file_path`.\n"
   ]
  },
  {
   "cell_type": "code",
   "execution_count": 5,
   "metadata": {},
   "outputs": [],
   "source": [
    "import csv\n",
    "\n",
    "\n",
    "def save_as_csv(process_text, file_path):\n",
    "    \"\"\"\n",
    "    Saves processed text to a CSV file\n",
    "    IN: process_text, list[list[str]], processed text of a lecture transcript to save to a CSV file\n",
    "        file_path, str, path to the CSV file\n",
    "    OUT: None\n",
    "    \"\"\"\n",
    "    # write the processed text to a CSV file\n",
    "    with open(file_path, mode='w', newline='', encoding='utf-8') as file:\n",
    "        writer = csv.writer(file)\n",
    "        for sentence_tokens in process_text:\n",
    "            writer.writerow(sentence_tokens)"
   ]
  },
  {
   "cell_type": "markdown",
   "metadata": {},
   "source": [
    "### Task 4 (45 pts): Word Frequency Analysis\n"
   ]
  },
  {
   "cell_type": "markdown",
   "metadata": {},
   "source": [
    "#### 4.1 (10 pts): Compute the cumulative word frequency.\n"
   ]
  },
  {
   "cell_type": "markdown",
   "metadata": {},
   "source": [
    "Write a function `update_word_frequency(processed_text, cumulated_frequency)` that\n",
    "\n",
    "- **Input 1:** A list of lists of strings `processed_text`, where each inner list contains the processed tokens of a sentence in a lecture transcript.\n",
    "- **Input 2:** A dictionary `cumulated_frequency` that stores the cumulated word frequency up to now. By default, `cumulated_frequency` is an empty dictionary.\n"
   ]
  },
  {
   "cell_type": "code",
   "execution_count": null,
   "metadata": {},
   "outputs": [
    {
     "name": "stdout",
     "output_type": "stream",
     "text": [
      "Counter({'the': 4, 'quick': 2, 'brown': 2, 'fox': 2, 'jumps': 2, 'over': 2, 'lazy': 2, 'dog': 2})\n"
     ]
    }
   ],
   "source": [
    "# if you don't know Counter, ignore this import. Recall Counter is a subclass of dict\n",
    "from collections import Counter\n",
    "\n",
    "\n",
    "def update_word_frequency(processed_text, cumulated_frequency=None):\n",
    "    \"\"\"\n",
    "    Updates the cumulated word frequency with the frequency in the processed text\n",
    "    IN: processed_text, list[list[str]], processed text to count word frequency\n",
    "        cumulated_frequency, dict{str: int}, cumulated word frequency\n",
    "    OUT: cumulated_frequency, dict{str: int}, cumulated word frequency\n",
    "    \"\"\"\n",
    "    # if cumulated_frequency is not provided, initialize it\n",
    "    if cumulated_frequency is None:\n",
    "        cumulated_frequency = Counter()\n",
    "\n",
    "    # update the cumulated frequency with the frequency in each sentence\n",
    "    for sentence in processed_text:\n",
    "        for word in sentence:\n",
    "            cumulated_frequency[word] += 1\n",
    "\n",
    "    return cumulated_frequency\n",
    "\n",
    "#to test\n",
    "# Sample input data\n",
    "#processed_text = [\n",
    "#    ['the', 'quick', 'brown', 'fox'],\n",
    "#    ['jumps', 'over', 'the', 'lazy', 'dog'],\n",
    "#    ['the', 'quick', 'brown', 'fox', 'jumps', 'over', 'the', 'lazy', 'dog']\n",
    "#]\n",
    "\n",
    "# Call the function and print the result\n",
    "#samplefreq = {}\n",
    "#cumulated_frequency = update_word_frequency(processed_text)\n",
    "#print(cumulated_frequency)"
   ]
  },
  {
   "cell_type": "markdown",
   "metadata": {},
   "source": [
    "#### 4.2 (5 pts): Plot the word frequency as a histogram.\n"
   ]
  },
  {
   "cell_type": "markdown",
   "metadata": {},
   "source": [
    "Write a function `plot_word_frequency_dist(cumulated_frequency)` that\n",
    "\n",
    "- **Input:** A dictionary `cumulated_frequency` that stores the cumulated word frequency.\n",
    "- Plot the word frequency as a histogram.\n",
    "\n",
    "Note:\n",
    "\n",
    "- This function plots a histogram where the x-axis represents the word frequency, and the y-axis represents the number of words that appear with the corresponding frequency.\n",
    "- You may use the `matplotlib` module to create the histogram. If you haven't installed it yet, you can do so by running the following command in your terminal:\n",
    "  ```bash\n",
    "  pip install matplotlib\n",
    "  ```\n",
    "- To plot a histogram, you may use the plt.hist() function, which takes a list of values as input.\n",
    "\n",
    "  ```python\n",
    "  import matplotlib.pyplot as plt\n",
    "  values = [1, 1, 1, 2, 3, 3, 3, 3, 3, 4, 4, 5]\n",
    "  plt.hist(values)\n",
    "  plt.show()\n",
    "  ```\n"
   ]
  },
  {
   "cell_type": "code",
   "execution_count": null,
   "metadata": {},
   "outputs": [
    {
     "data": {
      "image/png": "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",
      "text/plain": [
       "<Figure size 640x480 with 1 Axes>"
      ]
     },
     "metadata": {},
     "output_type": "display_data"
    }
   ],
   "source": [
    "import matplotlib.pyplot as plt\n",
    "\n",
    "\n",
    "def plot_word_frequency_dist(cumulated_frequency):\n",
    "    \"\"\"\n",
    "    Plots word frequency\n",
    "    IN: cumulated_frequency, dict{str: int}, cumulated word frequency\n",
    "    OUT: None\n",
    "    \"\"\"\n",
    "    # plot the word frequency distribution\n",
    "    freqs = list(cumulated_frequency.values())\n",
    "    plt.hist(freqs)\n",
    "\n",
    "    plt.xlabel(\"Word Frequency\")\n",
    "    plt.ylabel(\"Num of Words\")\n",
    "    plt.title(\"Word Frequency Distribution\")\n",
    "    plt.show()\n",
    "\n",
    "#test\n",
    "# Example usage\n",
    "#cumulated_frequency = {'the': 5, 'quick': 2, 'brown': 3, 'fox': 3, 'jumps': 2, 'over': 2, 'lazy': 2, 'dog': 2}\n",
    "#plot_word_frequency_dist(cumulated_frequency)"
   ]
  },
  {
   "cell_type": "markdown",
   "metadata": {},
   "source": [
    "#### 4.3 (5 pts): Sort the words by frequency.\n"
   ]
  },
  {
   "cell_type": "markdown",
   "metadata": {},
   "source": [
    "Write a function `sort_words_by_frequency(cumulated_frequency)` that\n",
    "\n",
    "- **Input:** A dictionary `cumulated_frequency` that stores the cumulated word frequency.\n",
    "- **Output:** A list of tuples, where each tuple contains a word and its frequency, sorted by frequency in non-ascending order. If two words have the same frequency, they are sorted in alphabetical non-descending order.\n"
   ]
  },
  {
   "cell_type": "code",
   "execution_count": null,
   "metadata": {},
   "outputs": [
    {
     "name": "stdout",
     "output_type": "stream",
     "text": [
      "[('the', 5), ('brown', 2), ('dog', 2), ('fox', 2), ('jumps', 2), ('lazy', 2), ('over', 2), ('quick', 2)]\n"
     ]
    }
   ],
   "source": [
    "def sort_words_by_frequency(cumulated_frequency):\n",
    "    \"\"\"\n",
    "    Sorts words by frequency\n",
    "    IN: cumulated_frequency, dict{str: int}, cumulated word frequency\n",
    "    OUT: sorted_word_frequencies, list[tuple(str, int)], sorted words by frequency\n",
    "    \"\"\"\n",
    "    # sort the words by frequency, breaking ties by word alphabetical order\n",
    "    sorted_words = sorted(cumulated_frequency.items(), key=lambda x: (-x[1], x[0]))\n",
    "    return sorted_words\n",
    "\n",
    "#test \n",
    "# Sample dictionary\n",
    "#word_freq = {\n",
    "#    'the': 5,\n",
    "#    'quick': 2,\n",
    "#    'brown': 2,\n",
    "#    'fox': 2,\n",
    "#    'jumps': 2,\n",
    "#    'over': 2,\n",
    "#    'lazy': 2,\n",
    "#    'dog': 2\n",
    "#}\n",
    "\n",
    "# Expected output: [('brown', 2), ('dog', 2), ('fox', 2), ('jumps', 2), ('lazy', 2), ('over', 2), ('quick', 2), ('the', 5)]\n",
    "\n",
    "# Call the function and print the result\n",
    "#sorted_list = sort_words_by_frequency(word_freq)\n",
    "#print(sorted_list)"
   ]
  },
  {
   "cell_type": "markdown",
   "metadata": {},
   "source": [
    "#### 4.4 (10 pts): Bucket the words by frequency using mean and standard deviation.\n"
   ]
  },
  {
   "cell_type": "markdown",
   "metadata": {},
   "source": [
    "#### 4.4.1 (3 pts): Find the mean and standard deviation of the word frequency.\n"
   ]
  },
  {
   "cell_type": "markdown",
   "metadata": {},
   "source": [
    "Write a function `find_mean_and_std(sorted_word_frequencies)` that\n",
    "\n",
    "- **Input:** A sorted list of tuples `sorted_word_frequencies` consisting of words and their frequencies.\n",
    "- **Output:** A tuple `(mean, std)` where `mean` is the average of the word frequencies and `std` is the standard deviation of the word frequencies.\n",
    "\n",
    "#### Formulas:\n",
    "\n",
    "- Mean:\n",
    "\n",
    "  $$\n",
    "  \\bar{f} = \\frac{\\sum_{i=1}^{n} f_i}{n}\n",
    "  $$\n",
    "\n",
    "  where $f_i$ is the frequency of the $i$-th word and $n$ is the number of words.\n",
    "\n",
    "- Standard Deviation:\n",
    "  $$\n",
    "  \\sigma = \\sqrt{\\frac{\\sum_{i=1}^{n} (f_i - \\bar{f})^2}{n}}\n",
    "  $$\n",
    "  where $f_i$ is the frequency of the $i$-th word, $\\bar{f}$ is the mean of the word frequency, and $n$ is the number of words.\n"
   ]
  },
  {
   "cell_type": "code",
   "execution_count": null,
   "metadata": {},
   "outputs": [
    {
     "name": "stdout",
     "output_type": "stream",
     "text": [
      "Mean: 2.625, Standard Deviation: 0.9921567416492215\n"
     ]
    }
   ],
   "source": [
    "def find_mean_and_std(sorted_word_frequencies):\n",
    "    \"\"\"\n",
    "    Finds mean and standard deviation of word frequency\n",
    "    IN: sorted_word_frequencies, list[tuple(str, int)], sorted words by frequency\n",
    "    OUT: mean, float, mean of word frequency\n",
    "         std, float, standard deviation of word frequency\n",
    "    \"\"\"\n",
    "    # access all the frequencies\n",
    "    freqs = [freq for word, freq in sorted_word_frequencies]\n",
    "\n",
    "    # calculate the mean\n",
    "    mean = sum(freqs) / len(freqs)\n",
    "\n",
    "    # calculate the standard deviation\n",
    "    std = (sum((freq - mean) ** 2 for freq in freqs) / len(freqs)) ** 0.5\n",
    "\n",
    "    return mean, std\n",
    "\n",
    "#test\n",
    "# Sample sorted word frequencies\n",
    "#sorted_word_frequencies = [('the', 5), ('quick', 2), ('brown', 3), ('fox', 3), ('jumps', 2), ('over', 2), ('lazy', 2), ('dog', 2)]\n",
    "\n",
    "# Call the function and print the result\n",
    "#mean, std = find_mean_and_std(sorted_word_frequencies)\n",
    "#print(f\"Mean: {mean}, Standard Deviation: {std}\")"
   ]
  },
  {
   "cell_type": "markdown",
   "metadata": {},
   "source": [
    "##### 4.4.2 (3 pts): Bucket a value by the mean and standard deviation.\n"
   ]
  },
  {
   "cell_type": "markdown",
   "metadata": {},
   "source": [
    "Write a function `bucket_value_by_mean_std(value, mean, std)` that\n",
    "\n",
    "- **Input 1:** A number `value` representing the frequency of a word.\n",
    "- **Input 2:** A float `mean` representing the mean of the word frequency.\n",
    "- **Input 3:** A float `std` representing the standard deviation of the word frequency.\n",
    "- **Output:** An integer representing the bucket index of the word frequency.\n",
    "\n",
    "**Formula:**\n",
    "The bucket index can be calculated using the formula:\n",
    "\n",
    "$$\n",
    "b = \\left\\lfloor \\frac{f - \\bar{f}}{\\sigma} \\right\\rfloor\n",
    "$$\n",
    "\n",
    "where:\n",
    "\n",
    "- $f$ is the frequency of the word,\n",
    "- $\\bar{f}$ is the mean of the word frequency,\n",
    "- $\\sigma$ is the standard deviation of the word frequency,\n",
    "- $\\lfloor \\cdot \\rfloor$ is the floor function.\n"
   ]
  },
  {
   "cell_type": "code",
   "execution_count": null,
   "metadata": {},
   "outputs": [
    {
     "name": "stdout",
     "output_type": "stream",
     "text": [
      "Bucket index for value 5 with mean 2.625 and std 0.9921567416492215 is 2\n"
     ]
    }
   ],
   "source": [
    "import math\n",
    "\n",
    "\n",
    "def bucket_value_by_mean_std(value, mean, std):\n",
    "    \"\"\"\n",
    "    Buckets value by mean and standard deviation\n",
    "    IN: value, int | float, value from a distribution to bucket\n",
    "        mean, float, mean of the distribution\n",
    "        std, float, standard deviation of the distribution\n",
    "    OUT: bucket_idx, int, bucket index\n",
    "    \"\"\"\n",
    "    # calculate the bucket index\n",
    "    bucket_idx = math.floor((value - mean) / std)\n",
    "\n",
    "    return bucket_idx\n",
    "\n",
    "#test\n",
    "#Sample test\n",
    "#sample_value = 5\n",
    "#mean = 2.625\n",
    "#std = 0.9921567416492215\n",
    "\n",
    "#bucket_index = bucket_value_by_mean_std(sample_value, mean, std)\n",
    "#print(f\"Bucket index for value {sample_value} with mean {mean} and std {std} is {bucket_index}\")"
   ]
  },
  {
   "cell_type": "markdown",
   "metadata": {},
   "source": [
    "##### 4.4.3 (4 pts): Find the bucket index of each word.\n"
   ]
  },
  {
   "cell_type": "markdown",
   "metadata": {},
   "source": [
    "Write a function `find_bucket_index_of_words(sorted_word_frequencies)` that\n",
    "\n",
    "- **Input:** A sorted list of tuples `sorted_word_frequencies` consisting of words and their frequencies.\n",
    "- **Output:** A list of dictionaries, where each dictionary contains three key-value pairs:\n",
    "  - `word`: the word from the input list.\n",
    "  - `frequency`: the frequency of the word.\n",
    "  - `bucket`: the bucket index of the word frequency.\n"
   ]
  },
  {
   "cell_type": "code",
   "execution_count": null,
   "metadata": {},
   "outputs": [
    {
     "name": "stdout",
     "output_type": "stream",
     "text": [
      "[{'word': 'the', 'frequency': 5, 'bucket': 2}, {'word': 'quick', 'frequency': 2, 'bucket': -1}, {'word': 'brown', 'frequency': 3, 'bucket': 0}, {'word': 'fox', 'frequency': 3, 'bucket': 0}, {'word': 'jumps', 'frequency': 2, 'bucket': -1}, {'word': 'over', 'frequency': 2, 'bucket': -1}, {'word': 'lazy', 'frequency': 2, 'bucket': -1}, {'word': 'dog', 'frequency': 2, 'bucket': -1}]\n"
     ]
    }
   ],
   "source": [
    "def find_bucket_index_of_words(sorted_word_frequencies):\n",
    "    \"\"\"\n",
    "    Finds bucket index of words by mean and standard deviation\n",
    "    IN: sorted_word_frequencies, list[tuple(str, int)], sorted words by frequency\n",
    "    OUT: sorted_word_info, list[dict{\"word\": str, \"frequency\": int, \"bucket\": int}], words with frequency and bucket index\n",
    "    \"\"\"\n",
    "    # find the mean and standard deviation of the word frequencies\n",
    "    mean, std = find_mean_and_std(sorted_word_frequencies)\n",
    "\n",
    "    # collect the words with their frequency and bucket index\n",
    "    sorted_word_info = []\n",
    "    for word, freq in sorted_word_frequencies:\n",
    "        word_dict = {\"word\": word, \"frequency\": freq, \"bucket\": bucket_value_by_mean_std(freq, mean, std)}\n",
    "        sorted_word_info.append(word_dict)\n",
    "\n",
    "    return sorted_word_info\n",
    "\n",
    "#test\n",
    "# Sample data for testing\n",
    "#sorted_word_frequencies = [('the', 5), ('quick', 2), ('brown', 3), ('fox', 3), ('jumps', 2), ('over', 2), ('lazy', 2), ('dog', 2)]\n",
    "\n",
    "# Call the function and print the result\n",
    "#sorted_word_info = find_bucket_index_of_words(sorted_word_frequencies)\n",
    "#print(sorted_word_info)"
   ]
  },
  {
   "cell_type": "markdown",
   "metadata": {},
   "source": [
    "#### 4.5 (5 pts): Save the word information as a JSON file.\n"
   ]
  },
  {
   "cell_type": "markdown",
   "metadata": {},
   "source": [
    "Write a function `save_as_json(sorted word_info, file_path)` that\n",
    "\n",
    "- **Input 1:** A sorted list of dictionaries `sorted_word_info` that contains frequency and bucket information of each word.\n",
    "- **Input 2:** A string `file_path` that specifies the path to save the JSON file.\n",
    "- **Write** the word information as a JSON file.\n"
   ]
  },
  {
   "cell_type": "code",
   "execution_count": null,
   "metadata": {},
   "outputs": [],
   "source": [
    "import json\n",
    "\n",
    "\n",
    "def save_as_json(sorted_word_info, file_path):\n",
    "    \"\"\"\n",
    "    Saves word info to a JSON file\n",
    "    IN: sorted_word_info, list[dict{\"word\": str, \"frequency\": int, \"bucket\": int}], words with frequency and bucket index\n",
    "        file_path, str, path to the JSON file\n",
    "    OUT: None\n",
    "    \"\"\"\n",
    "    # write the word info to a JSON file\n",
    "    with open(file_path, 'w') as f:\n",
    "        json.dump(sorted_word_info, f)"
   ]
  },
  {
   "cell_type": "markdown",
   "metadata": {},
   "source": [
    "#### 4.6 (10 pts): Plot stacked word frequency bar chart.\n"
   ]
  },
  {
   "cell_type": "markdown",
   "metadata": {},
   "source": [
    "Write a function `plot_stacked_word_frequency(word_frequencies_list, sorted_words)` that\n",
    "\n",
    "- **Input 1:** A list of dictionaries `word_frequencies_list`. Each dictionary contains the cumulated word frequency up to a certain lecture transcript.\n",
    "\n",
    "  The first dictionary contains the word frequency of the first lecture transcript, the second dictionary contains the cumulated word frequency of the first and second lecture transcripts, and so on.\n",
    "\n",
    "- **Input 2:** A list of tuples `sorted_words` that contains the words sorted by frequency.\n",
    "- **Plot** the word frequency as a stacked bar chart.\n",
    "\n",
    "Note:\n",
    "\n",
    "- A stacked bar chart uses bars to show comparisons between categories of data, with the ability to break down and compare parts of a whole. In this task:\n",
    "  - The x-axis represents the words.\n",
    "  - The y-axis represents the word frequency.\n",
    "  - Bars are sorted using the order of `sorted_words`.\n",
    "- You may use the `matplotlib` module to plot the stacked bar chart. The following code snippet demonstrates how to create a stacked bar chart using the `plt.bar()` function.\n",
    "\n",
    "  ```python\n",
    "  import matplotlib.pyplot as plt\n",
    "\n",
    "  cmap = plt.get_cmap(\"viridis_r\")  # use colormap for coloring the bars\n",
    "\n",
    "  words = [\"apple\", \"banana\", \"cherry\"]  # list all words used in x-axis\n",
    "  frequencies_list = [  # list of cumulated word frequencies\n",
    "      [1, 3, 0],  # frequencies in document 1\n",
    "      [3, 3, 3],  # frequencies in document 1 and 2\n",
    "      [6, 5, 3],  # frequencies in document 1, 2, and 3\n",
    "  ]\n",
    "\n",
    "  for i, frequencies in reversed(list(enumerate(frequencies_list))):  # plot in reverse order, so the earlier one is on top\n",
    "      plt.bar(\n",
    "          words, # x-axis, words\n",
    "          frequencies, # y-axis, cumulated frequencies\n",
    "          color=cmap(i / (len(frequencies_list) - 1)), # color the bars\n",
    "          label=f\"Up to Document {i+1}\", # label the part of the bar\n",
    "      )\n",
    "\n",
    "  plt.xlabel(\"Words\")\n",
    "  plt.xticks(rotation=90) # rotate the x-axis labels for better readability\n",
    "  plt.ylabel(\"Frequency\")\n",
    "  plt.title(\"Word Frequency in Documents\")\n",
    "  plt.legend()\n",
    "\n",
    "  plt.show()\n",
    "  ```\n"
   ]
  },
  {
   "cell_type": "code",
   "execution_count": null,
   "metadata": {},
   "outputs": [
    {
     "data": {
      "image/png": "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",
      "text/plain": [
       "<Figure size 640x480 with 1 Axes>"
      ]
     },
     "metadata": {},
     "output_type": "display_data"
    }
   ],
   "source": [
    "import matplotlib.pyplot as plt\n",
    "\n",
    "\n",
    "def plot_stacked_word_frequency(word_frequencies_list, sorted_words):\n",
    "    \"\"\"\n",
    "    Plots stacked word frequency\n",
    "    IN: word_frequencies_list, list[dict{str: int}], word frequencies to plot\n",
    "        sorted_words, list[tuple(str, int)], sorted words by frequency\n",
    "    OUT: None\n",
    "    \"\"\"\n",
    "    # set up color map\n",
    "    cmp = plt.get_cmap(\"viridis_r\")\n",
    "\n",
    "    # get words and frequencies\n",
    "    words = [word for word, _ in sorted_words]\n",
    "    freqs = []\n",
    "\n",
    "    for word_freq in word_frequencies_list:\n",
    "        frequencies = [word_freq.get(word, 0) for word in words]\n",
    "        freqs.append(frequencies)\n",
    "\n",
    "\n",
    "    # plot the stacked word frequency\n",
    "    cmap = plt.get_cmap(\"viridis_r\")\n",
    "\n",
    "    for i, frequencies in reversed(list(enumerate(freqs))):\n",
    "        plt.bar(\n",
    "            words,\n",
    "            frequencies,\n",
    "            color=cmap(i / (len(freqs) - 1)),\n",
    "            label=f\"Up to Lecture {i + 1}\",\n",
    "        )\n",
    "\n",
    "    plt.xlabel(\"Words\")\n",
    "    plt.xticks(rotation=90)\n",
    "    plt.ylabel(\"Frequency\")\n",
    "    plt.title(\"Stacked Word Frequency\")\n",
    "    # move the legend to the right to avoid overlapping with the bars\n",
    "    plt.legend(loc='center left', bbox_to_anchor=(1, 0.5))\n",
    "    plt.show()\n",
    "\n",
    "#test\n",
    "# Example usage\n",
    "#word_frequencies_list = [\n",
    "#    {'the': 5, 'quick': 2, 'brown': 2, 'fox': 2, 'jumps': 2, 'over': 2, 'lazy': 2, 'dog': 2},\n",
    "#    {'the': 10, 'quick': 4, 'brown': 4, 'fox': 4, 'jumps': 4, 'over': 4, 'lazy': 4, 'dog': 4},\n",
    "#    {'the': 15, 'quick': 6, 'brown': 6, 'fox': 8, 'jumps': 6, 'over': 6, 'lazy': 6, 'dog': 6}\n",
    "#]\n",
    "\n",
    "#sorted_words = [('the', 15), ('quick', 6), ('brown', 6), ('fox', 6), ('jumps', 6), ('over', 6), ('lazy', 6), ('dog', 6)]\n",
    "\n",
    "#plot_stacked_word_frequency(word_frequencies_list, sorted_words)"
   ]
  },
  {
   "cell_type": "markdown",
   "metadata": {},
   "source": [
    "### Call of functions for testing purposes\n"
   ]
  },
  {
   "cell_type": "code",
   "execution_count": 9,
   "metadata": {},
   "outputs": [
    {
     "name": "stdout",
     "output_type": "stream",
     "text": [
      "Processing ./data/transcript 1.pdf\n"
     ]
    },
    {
     "ename": "NameError",
     "evalue": "name 'extract_pdf_text' is not defined",
     "output_type": "error",
     "traceback": [
      "\u001b[1;31m---------------------------------------------------------------------------\u001b[0m",
      "\u001b[1;31mNameError\u001b[0m                                 Traceback (most recent call last)",
      "Cell \u001b[1;32mIn[9], line 13\u001b[0m\n\u001b[0;32m     10\u001b[0m \u001b[38;5;28mprint\u001b[39m(\u001b[38;5;124mf\u001b[39m\u001b[38;5;124m\"\u001b[39m\u001b[38;5;124mProcessing \u001b[39m\u001b[38;5;132;01m{\u001b[39;00mfileName\u001b[38;5;132;01m}\u001b[39;00m\u001b[38;5;124m\"\u001b[39m)\n\u001b[0;32m     12\u001b[0m \u001b[38;5;66;03m# extract text from the PDF file\u001b[39;00m\n\u001b[1;32m---> 13\u001b[0m text \u001b[38;5;241m=\u001b[39m \u001b[43mextract_pdf_text\u001b[49m(fileName)\n\u001b[0;32m     14\u001b[0m text \u001b[38;5;241m=\u001b[39m remove_headers(text)\n\u001b[0;32m     15\u001b[0m text \u001b[38;5;241m=\u001b[39m remove_parentheses(text)\n",
      "\u001b[1;31mNameError\u001b[0m: name 'extract_pdf_text' is not defined"
     ]
    }
   ],
   "source": [
    "if __name__ == \"__main__\":\n",
    "    # this block of code is executed when directly running the script, not when importing the script as a module\n",
    "    \"\"\"\n",
    "    Feel free to modify the code inside this if block to test your functions\n",
    "    \"\"\"\n",
    "    word_frequencies_list = []\n",
    "    cumulated_frequency = None\n",
    "    for i in range(1, 13):\n",
    "        fileName = f'./data/transcript {i}.pdf'\n",
    "        print(f\"Processing {fileName}\")\n",
    "\n",
    "        # extract text from the PDF file\n",
    "        text = extract_pdf_text(fileName)\n",
    "        text = remove_headers(text)\n",
    "        text = remove_parentheses(text)\n",
    "        text = remove_speakers(text)\n",
    "\n",
    "        # natural language preprocessing\n",
    "        sentences = split_into_sentences(text)\n",
    "        processed_text = []\n",
    "        for sentence in sentences:\n",
    "            tokens = tokenize_sentence(sentence)\n",
    "            tokens = remove_stopwords(tokens)\n",
    "            processed_text.append(tokens)\n",
    "\n",
    "        # update count of word frequency\n",
    "        cumulated_frequency = update_word_frequency(\n",
    "            processed_text, cumulated_frequency)\n",
    "        word_frequencies_list.append(cumulated_frequency.copy())\n",
    "\n",
    "    # plot the word final cumulative frequency distribution\n",
    "    plot_word_frequency_dist(word_frequencies_list[-1])\n",
    "\n",
    "    # sort words by final cumulative frequency\n",
    "    sorted_words = sort_words_by_frequency(word_frequencies_list[-1])\n",
    "\n",
    "    # find bucket index of all words\n",
    "    sorted_word_info = find_bucket_index_of_words(sorted_words)\n",
    "\n",
    "    # take words whose bucket index >= 5 (i.e. frequency >= mean + 5 * std)\n",
    "    filtered_words = [(info['word'], info['frequency'])\n",
    "                      for info in sorted_word_info if info['bucket'] >= 5]\n",
    "\n",
    "    # plot stacked word frequency\n",
    "    plot_stacked_word_frequency(word_frequencies_list, filtered_words)"
   ]
  }
 ],
 "metadata": {
  "kernelspec": {
   "display_name": "Python 3",
   "language": "python",
   "name": "python3"
  },
  "language_info": {
   "codemirror_mode": {
    "name": "ipython",
    "version": 3
   },
   "file_extension": ".py",
   "mimetype": "text/x-python",
   "name": "python",
   "nbconvert_exporter": "python",
   "pygments_lexer": "ipython3",
<<<<<<< HEAD
   "version": "3.12.5"
=======
   "version": "3.12.7"
>>>>>>> aaebcf4bf9e67b47b3ce5761f3234baf2773cac4
  }
 },
 "nbformat": 4,
 "nbformat_minor": 2
}
